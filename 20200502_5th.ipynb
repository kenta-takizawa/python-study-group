{
 "cells": [
  {
   "cell_type": "markdown",
   "metadata": {},
   "source": [
    "### 第5回python勉強会　辞書型の基礎"
   ]
  },
  {
   "cell_type": "code",
   "execution_count": 1,
   "metadata": {},
   "outputs": [
    {
     "output_type": "execute_result",
     "data": {
      "text/plain": "'スライム'"
     },
     "metadata": {},
     "execution_count": 1
    }
   ],
   "source": [
    "\"\"\"\n",
    "辞書型：keyでデータを格納する。\n",
    "使いどころ：DB（配列データ）とのやりとり、APIとのやりとり\n",
    "\"\"\"\n",
    "\n",
    "#辞書の作り方\n",
    "#-------------------------\n",
    "# 変数 = {\"key\":\"value\"}\n",
    "#-------------------------\n",
    "enemydict = {\"ザコ\":\"スライム\",\"中ボス\":\"ドラゴン\",\"ラスボス\":\"魔王\"}\n",
    "enemydict[\"ザコ\"]#呼び出すときは、[]を使う。\n"
   ]
  },
  {
   "cell_type": "code",
   "execution_count": 3,
   "metadata": {},
   "outputs": [
    {
     "output_type": "stream",
     "name": "stdout",
     "text": "4\n"
    },
    {
     "output_type": "execute_result",
     "data": {
      "text/plain": "'メタルモンスター'"
     },
     "metadata": {},
     "execution_count": 3
    }
   ],
   "source": [
    "#辞書の追加方法\n",
    "enemydict[\"ザコ2\"] = \"メタルモンスター\"\n",
    "\n",
    "print(len(enemydict))\n",
    "enemydict[\"ザコ2\"]"
   ]
  },
  {
   "cell_type": "code",
   "execution_count": 4,
   "metadata": {},
   "outputs": [
    {
     "output_type": "execute_result",
     "data": {
      "text/plain": "'レッドドラゴン'"
     },
     "metadata": {},
     "execution_count": 4
    }
   ],
   "source": [
    "#辞書の更新\n",
    "enemydict[\"中ボス\"] = \"レッドドラゴン\"\n",
    "enemydict[\"中ボス\"]\n"
   ]
  },
  {
   "cell_type": "code",
   "execution_count": 5,
   "metadata": {},
   "outputs": [
    {
     "output_type": "error",
     "ename": "KeyError",
     "evalue": "'ザコ2'",
     "traceback": [
      "\u001b[1;31m---------------------------------------------------------------------------\u001b[0m",
      "\u001b[1;31mKeyError\u001b[0m                                  Traceback (most recent call last)",
      "\u001b[1;32m<ipython-input-5-0fde985b2bf1>\u001b[0m in \u001b[0;36m<module>\u001b[1;34m\u001b[0m\n\u001b[0;32m      1\u001b[0m \u001b[1;31m#辞書の削除\u001b[0m\u001b[1;33m\u001b[0m\u001b[1;33m\u001b[0m\u001b[0m\n\u001b[0;32m      2\u001b[0m \u001b[1;32mdel\u001b[0m \u001b[0menemydict\u001b[0m\u001b[1;33m[\u001b[0m\u001b[1;34m\"ザコ2\"\u001b[0m\u001b[1;33m]\u001b[0m\u001b[1;33m\u001b[0m\u001b[0m\n\u001b[1;32m----> 3\u001b[1;33m \u001b[0menemydict\u001b[0m\u001b[1;33m[\u001b[0m\u001b[1;34m\"ザコ2\"\u001b[0m\u001b[1;33m]\u001b[0m\u001b[1;33m\u001b[0m\u001b[0m\n\u001b[0m",
      "\u001b[1;31mKeyError\u001b[0m: 'ザコ2'"
     ]
    }
   ],
   "source": [
    "#辞書の削除\n",
    "del enemydict[\"ザコ2\"]\n",
    "enemydict[\"ザコ2\"]"
   ]
  },
  {
   "cell_type": "code",
   "execution_count": 8,
   "metadata": {},
   "outputs": [
    {
     "output_type": "stream",
     "name": "stdout",
     "text": "スライム\nレッドドラゴン\n魔王\n------------\nザコ\nスライム\n中ボス\nレッドドラゴン\nラスボス\n魔王\n"
    }
   ],
   "source": [
    "#辞書のループ処理\n",
    "#keyを引数に取る。\n",
    "\n",
    "for key in enemydict:\n",
    "    print(enemydict[key])\n",
    "\n",
    "print(\"------------\")\n",
    "\n",
    "#keyとvaluesを同時に取得することも可能\n",
    "for key,values in enemydict.items():\n",
    "    print(key)\n",
    "    print(values)"
   ]
  },
  {
   "cell_type": "code",
   "execution_count": 10,
   "metadata": {},
   "outputs": [
    {
     "output_type": "stream",
     "name": "stdout",
     "text": "{'ザコ': 'スライム', '中ボス': 'レッドドラゴン', 'ラスボス': '魔王'}\n-------------------\n['ザコ', 'ラスボス', '中ボス']\n"
    }
   ],
   "source": [
    "#辞書型のソート\n",
    "#keyの名前でソートされる。\n",
    "enemydict_sorted = sorted(enemydict)\n",
    "print(enemydict)\n",
    "print(\"-------------------\")\n",
    "print(enemydict_sorted)"
   ]
  },
  {
   "cell_type": "code",
   "execution_count": 11,
   "metadata": {},
   "outputs": [
    {
     "output_type": "execute_result",
     "data": {
      "text/plain": "[('ザコ', 'スライム'), ('ラスボス', '魔王'), ('中ボス', 'レッドドラゴン')]"
     },
     "metadata": {},
     "execution_count": 11
    }
   ],
   "source": [
    "#valuesでソートしたい場合\n",
    "sorted(enemydict.items())\n"
   ]
  },
  {
   "cell_type": "code",
   "execution_count": 14,
   "metadata": {},
   "outputs": [
    {
     "output_type": "display_data",
     "data": {
      "text/plain": "<IPython.core.display.HTML object>",
      "text/html": "<img src='http://paiza.jp/learning/images/crystal.png'>"
     },
     "metadata": {}
    },
    {
     "output_type": "display_data",
     "data": {
      "text/plain": "<IPython.core.display.HTML object>",
      "text/html": "クリスタル<br>"
     },
     "metadata": {}
    },
    {
     "output_type": "display_data",
     "data": {
      "text/plain": "<IPython.core.display.HTML object>",
      "text/html": "<img src='http://paiza.jp/learning/images/shield.png'>"
     },
     "metadata": {}
    },
    {
     "output_type": "display_data",
     "data": {
      "text/plain": "<IPython.core.display.HTML object>",
      "text/html": "盾<br>"
     },
     "metadata": {}
    },
    {
     "output_type": "display_data",
     "data": {
      "text/plain": "<IPython.core.display.HTML object>",
      "text/html": "<img src='http://paiza.jp/learning/images/sword.png'>"
     },
     "metadata": {}
    },
    {
     "output_type": "display_data",
     "data": {
      "text/plain": "<IPython.core.display.HTML object>",
      "text/html": "剣<br>"
     },
     "metadata": {}
    },
    {
     "output_type": "display_data",
     "data": {
      "text/plain": "<IPython.core.display.HTML object>",
      "text/html": "<img src='http://paiza.jp/learning/images/potion.png'>"
     },
     "metadata": {}
    },
    {
     "output_type": "display_data",
     "data": {
      "text/plain": "<IPython.core.display.HTML object>",
      "text/html": "回復薬<br>"
     },
     "metadata": {}
    },
    {
     "output_type": "display_data",
     "data": {
      "text/plain": "<IPython.core.display.HTML object>",
      "text/html": "<img src='http://paiza.jp/learning/images/potion.png'>"
     },
     "metadata": {}
    },
    {
     "output_type": "display_data",
     "data": {
      "text/plain": "<IPython.core.display.HTML object>",
      "text/html": "回復薬<br>"
     },
     "metadata": {}
    },
    {
     "output_type": "display_data",
     "data": {
      "text/plain": "<IPython.core.display.HTML object>",
      "text/html": "<img src='http://paiza.jp/learning/images/potion.png'>"
     },
     "metadata": {}
    },
    {
     "output_type": "display_data",
     "data": {
      "text/plain": "<IPython.core.display.HTML object>",
      "text/html": "回復薬<br>"
     },
     "metadata": {}
    }
   ],
   "source": [
    "#リストと辞書によるループ処理\n",
    "#jupyter notebookでHTMLを表示させる。\n",
    "#https://qiita.com/m__k/items/3277555fbb0491808926\n",
    "#\n",
    "\n",
    "from IPython.display import display, HTML\n",
    "\n",
    "# 画像用ハッシュ\n",
    "item_images = {\n",
    "    \"剣\":\"http://paiza.jp/learning/images/sword.png\",\n",
    "    \"盾\":\"http://paiza.jp/learning/images/shield.png\",\n",
    "    \"回復薬\":\"http://paiza.jp/learning/images/potion.png\",\n",
    "    \"クリスタル\":\"http://paiza.jp/learning/images/crystal.png\"\n",
    "}\n",
    "\n",
    "# アイテムの並び順配列\n",
    "items_order = [\"クリスタル\", \"盾\", \"剣\", \"回復薬\", \"回復薬\", \"回復薬\"]\n",
    "for item_name in items_order:\n",
    "    display(HTML(\"<img src='\" + item_images[item_name] + \"'>\"))\n",
    "    display(HTML(item_name + \"<br>\"))\n",
    "    \n",
    "    #print(\"<img src='\" + item_images[item_name] + \"'>\")\n",
    "    #print(item_name + \"<br>\")"
   ]
  },
  {
   "cell_type": "markdown",
   "metadata": {},
   "source": [
    "### その他"
   ]
  },
  {
   "cell_type": "code",
   "execution_count": 15,
   "metadata": {},
   "outputs": [
    {
     "output_type": "stream",
     "name": "stdout",
     "text": "key1  key2  key3\n0   1.0   4.0   8.0\n1   2.0   5.0   9.0\n2   3.0   6.0   NaN\n3   NaN   7.0   NaN\n"
    }
   ],
   "source": [
    "#辞書型⇒配列データへの変換\n",
    "#https://qiita.com/ShoheiKojima/items/30ee0925472b7b3e5d5c\n",
    "\n",
    "import pandas as pd\n",
    "d = {'key1': [1,2,3], 'key2': [4,5,6,7], 'key3': [8,9]}\n",
    "#df = pd.DataFrame.from_dict(d, orient='index').T\n",
    "#もしくは\n",
    "df = pd.DataFrame(d.values(), index=d.keys()).T\n",
    "print(df)\n"
   ]
  },
  {
   "cell_type": "markdown",
   "metadata": {},
   "source": [
    "### 番外編：リストのソート"
   ]
  },
  {
   "cell_type": "code",
   "execution_count": 9,
   "metadata": {},
   "outputs": [
    {
     "output_type": "stream",
     "name": "stdout",
     "text": "['test', 'apple', 'banana']\n['apple', 'banana', 'test']\n"
    }
   ],
   "source": [
    "list_test = [\"test\",\"apple\",\"banana\"]\n",
    "print(list_test)\n",
    "\n",
    "list_test = sorted(list_test)\n",
    "print(list_test)"
   ]
  },
  {
   "cell_type": "code",
   "execution_count": null,
   "metadata": {},
   "outputs": [],
   "source": []
  }
 ],
 "metadata": {
  "language_info": {
   "codemirror_mode": {
    "name": "ipython",
    "version": 3
   },
   "file_extension": ".py",
   "mimetype": "text/x-python",
   "name": "python",
   "nbconvert_exporter": "python",
   "pygments_lexer": "ipython3",
   "version": "3.6.6-final"
  },
  "orig_nbformat": 2,
  "kernelspec": {
   "name": "python3",
   "display_name": "Python 3"
  }
 },
 "nbformat": 4,
 "nbformat_minor": 2
}