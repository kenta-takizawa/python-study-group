{
 "cells": [
  {
   "cell_type": "markdown",
   "metadata": {},
   "source": [
    "### 第7回python勉強会 関数"
   ]
  },
  {
   "cell_type": "code",
   "execution_count": 4,
   "metadata": {},
   "outputs": [
    {
     "output_type": "stream",
     "name": "stdout",
     "text": "hello!\n"
    },
    {
     "output_type": "execute_result",
     "data": {
      "text/plain": "<function __main__.say_hello()>"
     },
     "metadata": {},
     "execution_count": 4
    }
   ],
   "source": [
    "\"\"\"\n",
    "関数の利点\n",
    "・何回でも同じ処理を呼び出せる\n",
    "・少ないコードでメイン文をかける。\n",
    "・コードに名前を付けられる。\n",
    "\"\"\"\n",
    "#関数の作成\n",
    "#-------------\n",
    "#def 【関数の名前】():\n",
    "#------------\n",
    "def say_hello():\n",
    "    #1インテンド下げる。\n",
    "    \"\"\"\n",
    "    目的：helloを出力する\n",
    "    input：\n",
    "    output:\n",
    "    \"\"\"\n",
    "    print(\"hello!\")\n",
    "\n",
    "#関数の呼び出し\n",
    "say_hello()\n",
    "\n",
    "#ちなみにかっこをつけないと、、、\n",
    "say_hello"
   ]
  },
  {
   "cell_type": "code",
   "execution_count": 7,
   "metadata": {},
   "outputs": [
    {
     "output_type": "stream",
     "name": "stdout",
     "text": "30\n210\n"
    }
   ],
   "source": [
    "#引数と戻り値\n",
    "def plus(x,y):\n",
    "    \"\"\"\n",
    "    目的：足し算\n",
    "    input：x,y int or float\n",
    "    output：sum of x and y\n",
    "    \"\"\"\n",
    "    return x + y\n",
    "\n",
    "print(plus(10,20))\n",
    "print(plus(10,200))"
   ]
  },
  {
   "cell_type": "code",
   "execution_count": 11,
   "metadata": {},
   "outputs": [
    {
     "output_type": "stream",
     "name": "stdout",
     "text": "a is equal to paiza3\n"
    },
    {
     "output_type": "execute_result",
     "data": {
      "text/plain": "30"
     },
     "metadata": {},
     "execution_count": 11
    }
   ],
   "source": [
    "#ローカル変数とグローバル変数\n",
    "#グローバル変数とローカル変数が同じ変数名で定義されている場合：関数内の処理ではローカル変数の値が優先される。\n",
    "\n",
    "\n",
    "#グローバル変数\n",
    "message = \"a is equal to \"\n",
    "a = 10\n",
    "b = 20\n",
    "\n",
    "def plus(x,y):\n",
    "    \"\"\"\n",
    "    目的：足し算\n",
    "    input：x,y int or float\n",
    "    output：sum of x and y\n",
    "    \"\"\"\n",
    "    a = 3 #ローカル変数\n",
    "    \n",
    "    global message #グローバル変数をローカルに持ってくる。\n",
    "    message += \"paiza\" #単体だとローカルで定義されていないのでエラーになる\n",
    "    \n",
    "    print(message + str(a)) #グローバル変数の値を出力する。\n",
    "    \n",
    "    return x + y\n",
    "\n",
    "plus(a,b)\n"
   ]
  },
  {
   "cell_type": "code",
   "execution_count": 14,
   "metadata": {},
   "outputs": [
    {
     "output_type": "stream",
     "name": "stdout",
     "text": "スライムが現れた！\nスライムに80クリティカル攻撃した\nドラゴンが現れた！\nドラゴンに7攻撃した\n魔王が現れた！\n魔王に80クリティカル攻撃した\n"
    }
   ],
   "source": [
    "#関数の使用例\n",
    "import random\n",
    "def attack(enemy):\n",
    "    print(enemy + \"が現れた！\")\n",
    "    hit = random.randint(1,10)\n",
    "    if hit < 8:\n",
    "        print(enemy + \"に\" + str(hit) + \"攻撃した\")\n",
    "    else:\n",
    "        print(enemy + \"に\" + str(hit*10) + \"クリティカル攻撃した\")\n",
    "\n",
    "enemies = [\"スライム\",\"ドラゴン\",\"魔王\"]\n",
    "\n",
    "\n",
    "for enemy_test in enemies:\n",
    "    attack(enemy_test)    \n",
    "\n",
    "\n"
   ]
  },
  {
   "cell_type": "code",
   "execution_count": 21,
   "metadata": {},
   "outputs": [
    {
     "output_type": "error",
     "ename": "SyntaxError",
     "evalue": "non-default argument follows default argument (<ipython-input-21-3eb653052f58>, line 3)",
     "traceback": [
      "\u001b[1;36m  File \u001b[1;32m\"<ipython-input-21-3eb653052f58>\"\u001b[1;36m, line \u001b[1;32m3\u001b[0m\n\u001b[1;33m    def introduce(name = \"村人\",greeting):\u001b[0m\n\u001b[1;37m                 ^\u001b[0m\n\u001b[1;31mSyntaxError\u001b[0m\u001b[1;31m:\u001b[0m non-default argument follows default argument\n"
     ]
    }
   ],
   "source": [
    "#デフォルト引数\n",
    "#エラーが出る書き方\n",
    "def introduce(name = \"村人\",greeting):\n",
    "    print(greeting + \"I'm \" + name)\n",
    "\n",
    "\n",
    "introduce(\"こんにちは！\",\"勇者\")\n",
    "introduce(\"こんにちは！\")\n",
    "\n"
   ]
  },
  {
   "cell_type": "code",
   "execution_count": 22,
   "metadata": {},
   "outputs": [
    {
     "output_type": "stream",
     "name": "stdout",
     "text": "こんにちは！I'm 勇者\nこんにちは！I'm 村人\n"
    }
   ],
   "source": [
    "#正しい書き方\n",
    "def introduce(greeting,name = \"村人\"):\n",
    "    print(greeting + \"I'm \" + name)\n",
    "\n",
    "introduce(\"こんにちは！\",\"勇者\")\n",
    "introduce(\"こんにちは！\")\n"
   ]
  },
  {
   "cell_type": "code",
   "execution_count": 23,
   "metadata": {},
   "outputs": [
    {
     "output_type": "stream",
     "name": "stdout",
     "text": "こんにちは！I'm 勇者\nこんにちは！I'm バンキシャ\nこんにちは！I'm 魔王\n"
    }
   ],
   "source": [
    "#複数の引数を取りたい場合\n",
    "def introduce(greeting,*names):\n",
    "    for name in names:\n",
    "        print(greeting + \"I'm \" + name)\n",
    "\n",
    "\n",
    "introduce(\"こんにちは！\",\"勇者\",\"バンキシャ\",\"魔王\")\n"
   ]
  },
  {
   "cell_type": "code",
   "execution_count": 25,
   "metadata": {},
   "outputs": [
    {
     "output_type": "stream",
     "name": "stdout",
     "text": "May I help you?I'm hero\nHi!I'm your_girlfriend\nOk men!I'm colleage\n{'hero': 'May I help you?', 'your_girlfriend': 'Hi!', 'colleage': 'Ok men!'}\n"
    }
   ],
   "source": [
    "#複数の引数応用 辞書型\n",
    "def introduce(**people):\n",
    "    for name,greeting in people.items():\n",
    "        print(greeting + \"I'm \" + name)\n",
    "    print(people)\n",
    "\n",
    "introduce(hero=\"May I help you?\",your_girlfriend=\"Hi!\",colleage=\"Ok men!\")"
   ]
  },
  {
   "cell_type": "code",
   "execution_count": 26,
   "metadata": {},
   "outputs": [
    {
     "output_type": "stream",
     "name": "stdout",
     "text": "hello world\ngood morning world\ngood morning my friend\ngood afternoon my friend\n"
    }
   ],
   "source": [
    "#キーワード引数\n",
    "\n",
    "def say_hello(greeting=\"hello\",target=\"world\"):\n",
    "    print(greeting + \" \" + target)\n",
    "\n",
    "say_hello()\n",
    "say_hello(\"good morning\") #最初の変数に値が代入される\n",
    "say_hello(\"good morning\",\"my friend\") #そのままの順で変数に格納される\n",
    "say_hello(target=\"my friend\",greeting=\"good afternoon\") #変数を指定すれば、その変数にのみ代入される。\n"
   ]
  },
  {
   "cell_type": "markdown",
   "metadata": {},
   "source": [
    "### その他"
   ]
  },
  {
   "cell_type": "code",
   "execution_count": 30,
   "metadata": {},
   "outputs": [
    {
     "output_type": "execute_result",
     "data": {
      "text/plain": "21"
     },
     "metadata": {},
     "execution_count": 30
    }
   ],
   "source": [
    "#自作関数のimport\n",
    "\"\"\"\n",
    "URL：https://chaika.hatenablog.com/entry/2018/08/24/090000\n",
    "作成した自作関数を、複数のファイルを跨いで、使いたい場面は多い。\n",
    "その場合、以下の容量でコードを整理できる。\n",
    "１：外部ファイルに自作関数を定義しておく。\n",
    "２：importして、自作関数を使う。\n",
    "\n",
    "注）ファイルの階層を指定 or 一致させる必要がある。\n",
    "\n",
    "例1）メインと関数のフォルダ階層が同じ場合\n",
    "/root\n",
    "  |- functions.py (関数名 plus)\n",
    "  |- base.py\n",
    "【使用例１】\n",
    "from functions import plus\n",
    "plus()\n",
    "\n",
    "【使用例2】\n",
    "import functions\n",
    "functions.plus()\n",
    "\n",
    "\n",
    "例2）階層が違う場合\n",
    "/root\n",
    "  |- /modules\n",
    "  |    |- /sub\n",
    "  |        |- functions.py\n",
    "  |- base.py\n",
    "\n",
    "読み込むときには\n",
    "from modules.sub import functions\n",
    "from modules.sub.fuctions import 関数\n",
    "のようにディレクトリを「.」で繋げる必要がある。\n",
    "\"\"\"\n",
    "#例1\n",
    "#from ファイルの名前 import 関数名\n",
    "#from test_function import sum_2\n",
    "#sum_2(1,2,3,5,10)\n",
    "\n",
    "\n",
    "#import ファイルの名前\n",
    "#使うときは　ファイルの名前.関数名\n",
    "import test_function\n",
    "\n",
    "test_function.sum_2(1,2,3,5,10)\n"
   ]
  },
  {
   "cell_type": "code",
   "execution_count": null,
   "metadata": {},
   "outputs": [],
   "source": []
  }
 ],
 "metadata": {
  "language_info": {
   "codemirror_mode": {
    "name": "ipython",
    "version": 3
   },
   "file_extension": ".py",
   "mimetype": "text/x-python",
   "name": "python",
   "nbconvert_exporter": "python",
   "pygments_lexer": "ipython3",
   "version": "3.6.6-final"
  },
  "orig_nbformat": 2,
  "kernelspec": {
   "name": "python3",
   "display_name": "Python 3"
  }
 },
 "nbformat": 4,
 "nbformat_minor": 2
}