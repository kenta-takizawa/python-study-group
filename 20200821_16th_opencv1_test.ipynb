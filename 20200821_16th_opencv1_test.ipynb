{
 "cells": [
  {
   "cell_type": "markdown",
   "metadata": {},
   "source": [
    "## python勉強会　第16回opencv1"
   ]
  },
  {
   "cell_type": "code",
   "execution_count": 1,
   "metadata": {
    "tags": []
   },
   "outputs": [
    {
     "output_type": "stream",
     "name": "stderr",
     "text": "\nBad key \"font..family\" on line 199 in\nC:\\Users\\user\\.matplotlib\\matplotlibrc.\nYou probably need to get an updated matplotlibrc file from\nhttps://github.com/matplotlib/matplotlib/blob/v3.1.3/matplotlibrc.template\nor from the matplotlib source distribution\n"
    }
   ],
   "source": [
    "import cv2\n",
    "from skimage import io\n",
    "import numpy as np \n",
    "import matplotlib.pyplot as plt\n",
    "import japanize_matplotlib\n",
    "%matplotlib inline"
   ]
  },
  {
   "cell_type": "markdown",
   "metadata": {},
   "source": [
    "### 参考URL\n",
    "#### http://labs.eecs.tottori-u.ac.jp/sd/Member/oyamada/OpenCV/html/py_tutorials/py_imgproc/py_table_of_contents_imgproc/py_table_of_contents_imgproc.html#py-table-of-content-imgproc\n",
    "#### https://datawokagaku.com/opencv/"
   ]
  },
  {
   "cell_type": "markdown",
   "metadata": {},
   "source": [
    "### 問題１：次の画像を読み込んで、notebook上に表示してください。また、読み込んだ画像の型と配列を確認してください。\n",
    "#### 画像はopencv1フォルダにあります。画像の読込にはio.imreadかcv2.imreadを使ってください。\n",
    "#### 画像の表示はplt.imshowが便利です。\n",
    "![](./opencv1/water_coins.jpg)"
   ]
  },
  {
   "cell_type": "code",
   "execution_count": null,
   "metadata": {},
   "outputs": [],
   "source": [
    "#ここに解答を記載する。\n"
   ]
  },
  {
   "cell_type": "markdown",
   "metadata": {},
   "source": [
    "### 問題２：読み込んだ画像をグレースケールにして表示してください。さらに配列の形を確認してください。\n",
    "#### cv2.cvtColorを使います\n",
    "![](./opencv1/gray.jpg)"
   ]
  },
  {
   "cell_type": "code",
   "execution_count": null,
   "metadata": {},
   "outputs": [],
   "source": [
    "#ここに解答を記載する。\n"
   ]
  },
  {
   "cell_type": "markdown",
   "metadata": {},
   "source": [
    "### 問題３：読み込んだ画像を２値化して、コインと背景を白黒に分けて表示してください。\n",
    "#### cv2.thresholdを使います。\n",
    "![](./opencv1/binary.jpg)"
   ]
  },
  {
   "cell_type": "code",
   "execution_count": 1,
   "metadata": {},
   "outputs": [],
   "source": [
    "#ここに解答を記載する。"
   ]
  },
  {
   "cell_type": "markdown",
   "metadata": {},
   "source": [
    "### 問題４：問題３で２値化した画像の白黒を反転させて、膨張処理、収縮処理を行ってください。\n",
    "#### cv2.bitwise_not,cv2.erode,cv2.dilateを使います。\n",
    "![](./opencv1/bitwise.jpg)\n",
    "![](./opencv1/erode.jpg)\n",
    "![](./opencv1/dilate.jpg)"
   ]
  },
  {
   "cell_type": "code",
   "execution_count": null,
   "metadata": {},
   "outputs": [],
   "source": [
    "#ここに解答を記載する。"
   ]
  },
  {
   "cell_type": "markdown",
   "metadata": {},
   "source": [
    "### 問題５：グレースケール画像を使って、コインの輪郭（エッジ）を検出した画像を表示してください。\n",
    "#### cv2.Cannyを使います。\n",
    "![](./opencv1/canny.jpg)"
   ]
  },
  {
   "cell_type": "code",
   "execution_count": null,
   "metadata": {},
   "outputs": [],
   "source": [
    "#ここに解答を記載する。"
   ]
  },
  {
   "cell_type": "markdown",
   "metadata": {},
   "source": [
    "### 問題６：画像を元画像をx=0:100,y=0:150で切り出して、表示してください。\n",
    "#### numpy配列の基本操作を使います。\n",
    "![](./opencv1/cut.jpg)"
   ]
  },
  {
   "cell_type": "code",
   "execution_count": null,
   "metadata": {},
   "outputs": [],
   "source": [
    "#ここに解答を記載する。"
   ]
  },
  {
   "cell_type": "markdown",
   "metadata": {},
   "source": [
    "### 問題７：画像を150×150にリサイズしてください。\n",
    "#### cv2.resizeを使います。\n",
    "![](./opencv1/resize.jpg)"
   ]
  },
  {
   "cell_type": "markdown",
   "metadata": {},
   "source": [
    "### 問題８：適当な画像を保存してください。\n",
    "#### cv2.imwriteを使います。"
   ]
  },
  {
   "cell_type": "code",
   "execution_count": null,
   "metadata": {},
   "outputs": [],
   "source": [
    "#ここに解答を記載する。"
   ]
  }
 ],
 "metadata": {
  "language_info": {
   "codemirror_mode": {
    "name": "ipython",
    "version": 3
   },
   "file_extension": ".py",
   "mimetype": "text/x-python",
   "name": "python",
   "nbconvert_exporter": "python",
   "pygments_lexer": "ipython3",
   "version": 3
  },
  "orig_nbformat": 2,
  "kernelspec": {
   "name": "python_defaultSpec_1597578367079",
   "display_name": "Python 3.7.6 64-bit ('base': conda)"
  }
 },
 "nbformat": 4,
 "nbformat_minor": 2
}