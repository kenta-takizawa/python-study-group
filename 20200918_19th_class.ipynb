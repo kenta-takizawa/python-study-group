{
 "metadata": {
  "language_info": {
   "codemirror_mode": {
    "name": "ipython",
    "version": 3
   },
   "file_extension": ".py",
   "mimetype": "text/x-python",
   "name": "python",
   "nbconvert_exporter": "python",
   "pygments_lexer": "ipython3",
   "version": "3.7.3-final"
  },
  "orig_nbformat": 2,
  "kernelspec": {
   "name": "python_defaultSpec_1599377833945",
   "display_name": "Python 3.7.3 64-bit ('base': conda)"
  }
 },
 "nbformat": 4,
 "nbformat_minor": 2,
 "cells": [
  {
   "cell_type": "markdown",
   "metadata": {},
   "source": [
    "### python勉強会　第19回　クラス"
   ]
  },
  {
   "cell_type": "code",
   "execution_count": 1,
   "metadata": {},
   "outputs": [],
   "source": [
    "import pandas as pd \n",
    "import numpy as np\n",
    "import matplotlib.pyplot as plt\n",
    "\n",
    "%matplotlib inline"
   ]
  },
  {
   "cell_type": "markdown",
   "metadata": {},
   "source": [
    "### 動画講義paizaの「クラス」を見てから以下の問題を解いてください。\n",
    "### 最後の問題では、自分で線形回帰モジュールをクラスで実装してみます。"
   ]
  },
  {
   "cell_type": "markdown",
   "metadata": {},
   "source": [
    "### 【問題１】\n",
    "### Playerクラスを作成し、その中にwalkという関数を定義してください。walk関数を実行した時の表示が以下になるようにしてください。"
   ]
  },
  {
   "cell_type": "code",
   "execution_count": 4,
   "metadata": {
    "tags": []
   },
   "outputs": [
    {
     "output_type": "stream",
     "name": "stdout",
     "text": "お母さんは町を歩いている。\n子供は町を歩いている。\n"
    }
   ],
   "source": [
    "###############################################\n",
    "#以下でPlayerクラスを定義してください。\n",
    "class Player:\n",
    "    def __init__(self,name):\n",
    "        self.name = name\n",
    "    \n",
    "    def walk(self):\n",
    "        print(str(self.name) + \"は町を歩いている。\")\n",
    "\n",
    "################################################\n",
    "\n",
    "#実行結果は以下のようになります。\n",
    "mother = Player(\"お母さん\")\n",
    "mother.walk()\n",
    "\n",
    "child = Player(\"子供\")\n",
    "child.walk()"
   ]
  },
  {
   "cell_type": "markdown",
   "metadata": {},
   "source": [
    "### 【問題２】\n",
    "### モノの値段と個数を引数とし、関数名totalを実行すると合計金額を「返す」クラスを作成してください。"
   ]
  },
  {
   "cell_type": "code",
   "execution_count": 5,
   "metadata": {},
   "outputs": [
    {
     "output_type": "execute_result",
     "data": {
      "text/plain": "6600"
     },
     "metadata": {},
     "execution_count": 5
    }
   ],
   "source": [
    "###########################################\n",
    "#以下でItemクラスを定義してください。\n",
    "class Item:\n",
    "    TAX = 1.1#税率\n",
    "\n",
    "    def __init__(self,price,quantity):\n",
    "        self.price = price\n",
    "        self.quantity = quantity\n",
    "\n",
    "    def total(self):\n",
    "        return int(self.price * self.quantity * self.TAX)\n",
    "##############################################\n",
    "\n",
    "#実行結果\n",
    "apple = Item(120,50)\n",
    "apple.total()\n"
   ]
  },
  {
   "cell_type": "markdown",
   "metadata": {},
   "source": [
    "### 【問題３】アクセス制限（プライベート変数、プライベート関数）\n",
    "### プライベート関数としてattack,プライベート変数としてweaponを持つPlayerクラスを作成してください。\n",
    "### ※プライベート変数、関数：クラス内でしか呼び出せない関数や変数のこと。"
   ]
  },
  {
   "cell_type": "code",
   "execution_count": 8,
   "metadata": {
    "tags": []
   },
   "outputs": [
    {
     "output_type": "stream",
     "name": "stdout",
     "text": "戦士は荒野を歩いていた。\n剣でスライムを攻撃した。\n"
    }
   ],
   "source": [
    "################################\n",
    "#以下でPlayerクラスを定義してください。\n",
    "class Player:\n",
    "    def __init__(self,job,weapon):\n",
    "        self.job = job\n",
    "        self.__weapon = weapon\n",
    "\n",
    "##############################\n",
    "#以下でPlayerクラスを定義してください。\n",
    "class Player:\n",
    "    def __init__(self,job,weapon):\n",
    "        self.job = job\n",
    "        self.__weapon = weapon\n",
    "\n",
    "    def walk(self):\n",
    "        print(self.job + \"は荒野を歩いていた。\")\n",
    "        self.__attack(\"スライム\")\n",
    "    \n",
    "    def __attack(self,enemy):\n",
    "        print(self.__weapon + \"で\" + enemy + \"を攻撃した。\")\n",
    "\n",
    "#################################\n",
    "\n",
    "#実行結果1\n",
    "player1 = Player(\"戦士\",\"剣\")\n",
    "player1.walk()    \n"
   ]
  },
  {
   "cell_type": "code",
   "execution_count": 9,
   "metadata": {},
   "outputs": [
    {
     "output_type": "error",
     "ename": "AttributeError",
     "evalue": "'Player' object has no attribute '__attack'",
     "traceback": [
      "\u001b[0;31m---------------------------------------------------------------------------\u001b[0m",
      "\u001b[0;31mAttributeError\u001b[0m                            Traceback (most recent call last)",
      "\u001b[0;32m<ipython-input-9-e66727dba258>\u001b[0m in \u001b[0;36m<module>\u001b[0;34m\u001b[0m\n\u001b[1;32m      1\u001b[0m \u001b[0;31m#実行結果２\u001b[0m\u001b[0;34m\u001b[0m\u001b[0;34m\u001b[0m\u001b[0;34m\u001b[0m\u001b[0m\n\u001b[0;32m----> 2\u001b[0;31m \u001b[0mplayer1\u001b[0m\u001b[0;34m.\u001b[0m\u001b[0m__attack\u001b[0m\u001b[0;34m(\u001b[0m\u001b[0;34m)\u001b[0m\u001b[0;34m\u001b[0m\u001b[0;34m\u001b[0m\u001b[0m\n\u001b[0m\u001b[1;32m      3\u001b[0m \u001b[0;34m\u001b[0m\u001b[0m\n",
      "\u001b[0;31mAttributeError\u001b[0m: 'Player' object has no attribute '__attack'"
     ]
    }
   ],
   "source": [
    "#実行結果２ エラーがでます。\n",
    "player1.__attack()\n",
    "\n"
   ]
  },
  {
   "cell_type": "code",
   "execution_count": 10,
   "metadata": {},
   "outputs": [
    {
     "output_type": "error",
     "ename": "AttributeError",
     "evalue": "'Player' object has no attribute '__weapon'",
     "traceback": [
      "\u001b[0;31m---------------------------------------------------------------------------\u001b[0m",
      "\u001b[0;31mAttributeError\u001b[0m                            Traceback (most recent call last)",
      "\u001b[0;32m<ipython-input-10-5fff65210751>\u001b[0m in \u001b[0;36m<module>\u001b[0;34m\u001b[0m\n\u001b[1;32m      1\u001b[0m \u001b[0;31m#実行結果３　エラーが出ます。\u001b[0m\u001b[0;34m\u001b[0m\u001b[0;34m\u001b[0m\u001b[0;34m\u001b[0m\u001b[0m\n\u001b[0;32m----> 2\u001b[0;31m \u001b[0mplayer1\u001b[0m\u001b[0;34m.\u001b[0m\u001b[0m__weapon\u001b[0m\u001b[0;34m\u001b[0m\u001b[0;34m\u001b[0m\u001b[0m\n\u001b[0m",
      "\u001b[0;31mAttributeError\u001b[0m: 'Player' object has no attribute '__weapon'"
     ]
    }
   ],
   "source": [
    "#実行結果３　エラーが出ます。\n",
    "player1.__weapon"
   ]
  },
  {
   "cell_type": "markdown",
   "metadata": {},
   "source": [
    "### 【問題４】クラスの継承\n",
    "### "
   ]
  },
  {
   "cell_type": "code",
   "execution_count": 11,
   "metadata": {
    "tags": []
   },
   "outputs": [
    {
     "output_type": "stream",
     "name": "stdout",
     "text": "宝箱はキラキラしている。\n宝箱を開いた魔法の指輪を手に入れた\n"
    }
   ],
   "source": [
    "######################################################\n",
    "#以下で、親クラスBoxと子クラスJewelryBoxを定義してください。\n",
    "class Box:\n",
    "    def __init__(self,item):\n",
    "        self.item = item\n",
    "    def open(self):\n",
    "        print(\"宝箱を開いた\" + self.item + \"を手に入れた\")\n",
    "\n",
    "class JewelryBox(Box):\n",
    "    def look(self):\n",
    "        print(\"宝箱はキラキラしている。\")\n",
    "########################################################\n",
    "\n",
    "#実行結果\n",
    "jewelrybox = JewelryBox(\"魔法の指輪\")\n",
    "jewelrybox.look()\n",
    "jewelrybox.open()\n",
    "\n"
   ]
  },
  {
   "cell_type": "markdown",
   "metadata": {},
   "source": [
    "### 【問題５】メゾットのオーバーライド\n",
    "### "
   ]
  },
  {
   "cell_type": "code",
   "execution_count": 13,
   "metadata": {
    "tags": []
   },
   "outputs": [
    {
     "output_type": "stream",
     "name": "stdout",
     "text": "宝箱はキラキラしている。\n魔法の指輪が襲ってきだ！！\n"
    }
   ],
   "source": [
    "######################################################\n",
    "#以下で、親クラスBoxと子クラスJewelryBoxを定義してください。\n",
    "#また、子クラスでopen関数のオーバーライド（上書き）してください。\n",
    "class Box:\n",
    "    def __init__(self,item):\n",
    "        self.item = item\n",
    "    def open(self):\n",
    "        print(\"宝箱を開いた\" + self.item + \"を手に入れた\")\n",
    "\n",
    "class JewelryBox(Box):\n",
    "    def look(self):\n",
    "        print(\"宝箱はキラキラしている。\")\n",
    "\n",
    "    def open(self):\n",
    "        print(self.item + \"が襲ってきだ！！\")\n",
    "########################################################\n",
    "\n",
    "#実行結果\n",
    "jewelrybox = JewelryBox(\"魔法の指輪\")\n",
    "jewelrybox.look()\n",
    "jewelrybox.open()\n"
   ]
  },
  {
   "cell_type": "markdown",
   "metadata": {},
   "source": [
    "### 【問題６】\n",
    "### これまでのまとめ"
   ]
  },
  {
   "cell_type": "code",
   "execution_count": 27,
   "metadata": {
    "tags": []
   },
   "outputs": [
    {
     "output_type": "stream",
     "name": "stdout",
     "text": "勇者はヴォルデモードを攻撃した。\n戦士はヴォルデモードを攻撃した。\nズパーン！！\n魔法使いはヴォルデモードに呪文を唱えた。エクスペクト・パトローナぁぁむ！！！\n3人で攻撃した。\n\n【各オブジェクトのjob】\n勇者\n戦士\n魔法使い\n"
    }
   ],
   "source": [
    "##########################################################\n",
    "#以下でPlayerクラス、Wizardクラスを定義してください。\n",
    "class Player:\n",
    "    __player_count = 0\n",
    "    \n",
    "    @classmethod\n",
    "    def summary(cls):\n",
    "        print(str(Player.__player_count) + \"人で攻撃した。\")\n",
    "\n",
    "    def __init__(self,job):\n",
    "        self.job = job\n",
    "        Player.__player_count += 1\n",
    "\n",
    "    def attack(self,enemy):\n",
    "        print(self.job + \"は\"+enemy+\"を攻撃した。\")\n",
    "\n",
    "class Wizard(Player):\n",
    "    def __init__(self):\n",
    "        super().__init__(\"魔法使い\")\n",
    "    \n",
    "    def attack(self,enemy):\n",
    "        self.__spell()\n",
    "        print(self.job + \"は\"+enemy+\"に呪文を唱えた。エクスペクト・パトローナぁぁむ！！！\")\n",
    "    \n",
    "    def __spell(self):\n",
    "        print(\"ズパーン！！\")\n",
    "        \n",
    "##########################################################\n",
    "\n",
    "#実行結果\n",
    "player1 = Player(\"勇者\")\n",
    "player2 = Player(\"戦士\")\n",
    "wizard = Wizard()\n",
    "\n",
    "for player in [player1,player2,wizard]:\n",
    "    player.attack(\"ヴォルデモード\")\n",
    "\n",
    "#クラスメゾットを呼び出す。\n",
    "Player.summary()\n",
    "\n",
    "#各オブジェクトのjobを出力する。\n",
    "print(\"\")\n",
    "print(\"【各オブジェクトのjob】\")\n",
    "print(player1.job)\n",
    "print(player2.job)\n",
    "print(wizard.job)\n",
    "\n"
   ]
  },
  {
   "cell_type": "markdown",
   "metadata": {},
   "source": [
    "### 【問題７】\n",
    "### クラスのまとめとして、線形回帰モジュールを作成します。"
   ]
  },
  {
   "cell_type": "code",
   "execution_count": 32,
   "metadata": {
    "tags": []
   },
   "outputs": [
    {
     "output_type": "stream",
     "name": "stdout",
     "text": "予測値：56.35\n各係数\n9.102108981180317\n-34.67062077643858\n"
    }
   ],
   "source": [
    "class LinearRegression:\n",
    "    \"\"\"線形回帰モジュールの自作\n",
    "    説明変数x、目的変数yが与えられた時に、\n",
    "    y =　ax + bとなる係数a,bを求めます。\n",
    "    また、a,bを使ってyの値を推定できるようにします。\n",
    "\n",
    "    今回は簡単のため、numpyモジュールにあるnp.plotfit関数を使います。\n",
    "    以下で\n",
    "    fit関数、predict関数、cof_関数を定義してください。\n",
    "　　 実行結果が同じになるか確認してください。\n",
    "\n",
    "    \"\"\"\n",
    "    def __init__(self):\n",
    "        self.a = 0\n",
    "        self.b = 0\n",
    "\n",
    "    def fit(self,x,y):\n",
    "        \"\"\"学習\n",
    "        np.polyfit(x,y,1)\n",
    "        \"\"\"\n",
    "        self.a, self.b = np.polyfit(x,y,1)\n",
    "\n",
    "    def predict(self,x):\n",
    "        \"\"\"推定\"\"\"\n",
    "        return self.a * x + self.b\n",
    "\n",
    "    def cof_(self):\n",
    "        \"\"\"各係数の表示\"\"\"\n",
    "        print(self.a)\n",
    "        print(self.b)\n",
    "\n",
    "#ボストンデータをインポートする。\n",
    "from sklearn.datasets import load_boston\n",
    "boston = load_boston()\n",
    "boston_df = pd.DataFrame(boston.data)\n",
    "boston_df.columns = boston.feature_names\n",
    "boston_df['Price'] = boston.target\n",
    "\n",
    "X = np.array(boston_df.RM)\n",
    "Y = np.array(boston_df.Price)\n",
    "\n",
    "#線型回帰モジュールの定義\n",
    "l_model = LinearRegression()\n",
    "#学習\n",
    "l_model.fit(X,Y)\n",
    "\n",
    "#推論\n",
    "print(\"予測値：{:.2f}\".format(l_model.predict(10)))\n",
    "\n",
    "#各係数の表示\n",
    "print(\"各係数\")\n",
    "l_model.cof_()\n"
   ]
  },
  {
   "cell_type": "code",
   "execution_count": null,
   "metadata": {},
   "outputs": [],
   "source": []
  }
 ]
}