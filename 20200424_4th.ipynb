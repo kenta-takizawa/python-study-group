{
 "nbformat": 4,
 "nbformat_minor": 2,
 "metadata": {
  "language_info": {
   "name": "python",
   "codemirror_mode": {
    "name": "ipython",
    "version": 3
   },
   "version": "3.7.6-final"
  },
  "orig_nbformat": 2,
  "file_extension": ".py",
  "mimetype": "text/x-python",
  "name": "python",
  "npconvert_exporter": "python",
  "pygments_lexer": "ipython3",
  "version": 3,
  "kernelspec": {
   "name": "python3",
   "display_name": "Python 3"
  }
 },
 "cells": [
  {
   "cell_type": "markdown",
   "metadata": {},
   "source": [
    "## python勉強会　第４回　list"
   ]
  },
  {
   "cell_type": "code",
   "execution_count": 3,
   "metadata": {},
   "outputs": [
    {
     "output_type": "execute_result",
     "data": {
      "text/plain": "['勇者', '魔法使い', 100]"
     },
     "metadata": {},
     "execution_count": 3
    }
   ],
   "source": [
    "\"\"\"\n",
    "値や文字列、データを番号付きの配列として扱う\n",
    "\"\"\"\n",
    "#リストの作り方\n",
    "team = [\"勇者\",\"魔法使い\",100]\n",
    "team"
   ]
  },
  {
   "cell_type": "code",
   "execution_count": 6,
   "metadata": {},
   "outputs": [
    {
     "output_type": "stream",
     "name": "stdout",
     "text": "勇者\n魔法使い\n"
    },
    {
     "output_type": "execute_result",
     "data": {
      "text/plain": "3"
     },
     "metadata": {},
     "execution_count": 6
    }
   ],
   "source": [
    "#リスト要素の取り出し\n",
    "print(team[0])\n",
    "print(team[1])\n",
    "\n",
    "#print(team[10])#範囲外の配列へのアクセスはエラーになる。\n",
    "\n",
    "#len()関数を使って長さを確認しておくこと。\n",
    "len(team)"
   ]
  },
  {
   "cell_type": "code",
   "execution_count": 7,
   "metadata": {},
   "outputs": [
    {
     "output_type": "execute_result",
     "data": {
      "text/plain": "['勇者', '魔法使い', 100, '戦士']"
     },
     "metadata": {},
     "execution_count": 7
    }
   ],
   "source": [
    "#list要素の追加\n",
    "#appendを使うとリストの後ろに要素が追加される。\n",
    "\n",
    "team.append(\"戦士\")\n",
    "team"
   ]
  },
  {
   "cell_type": "code",
   "execution_count": 8,
   "metadata": {},
   "outputs": [
    {
     "output_type": "execute_result",
     "data": {
      "text/plain": "['勇者', '魔法使い', 100, 35]"
     },
     "metadata": {},
     "execution_count": 8
    }
   ],
   "source": [
    "#リスト要素の上書き\n",
    "team[3] = 35\n",
    "team"
   ]
  },
  {
   "cell_type": "code",
   "execution_count": 10,
   "metadata": {},
   "outputs": [
    {
     "output_type": "execute_result",
     "data": {
      "text/plain": "['勇者', '魔法使い']"
     },
     "metadata": {},
     "execution_count": 10
    }
   ],
   "source": [
    "#リスト要素の削除\n",
    "team.pop(2)\n",
    "team"
   ]
  },
  {
   "cell_type": "code",
   "execution_count": 11,
   "metadata": {},
   "outputs": [
    {
     "output_type": "stream",
     "name": "stdout",
     "text": "勇者\n魔法使い\n"
    }
   ],
   "source": [
    "#ループとリストによる処理\n",
    "#rangeなどを使用しなくてもよい。\n",
    "\n",
    "for name in team:\n",
    "    print(i)\n"
   ]
  },
  {
   "cell_type": "code",
   "execution_count": 13,
   "metadata": {},
   "outputs": [
    {
     "output_type": "stream",
     "name": "stdout",
     "text": "['kenta', 'takizawa', 'test']\n"
    }
   ],
   "source": [
    "#split関数とリスト\n",
    "\n",
    "line = input().rstrip().split(\",\")\n",
    "\n",
    "print(line)"
   ]
  },
  {
   "cell_type": "code",
   "execution_count": 14,
   "metadata": {},
   "outputs": [],
   "source": [
    "#複数行データをリストに格納する。\n",
    "#使用頻度は低い。\n",
    "\n",
    "import sys\n",
    "for line in sys.stdin.readlines():\n",
    "    print(line.rstrip())\n"
   ]
  },
  {
   "cell_type": "markdown",
   "metadata": {},
   "source": [
    "### その他"
   ]
  },
  {
   "cell_type": "code",
   "execution_count": 16,
   "metadata": {},
   "outputs": [
    {
     "output_type": "execute_result",
     "data": {
      "text/plain": "[0, 1, 2, 3, 4, 5, 6, 7, 8, 9]"
     },
     "metadata": {},
     "execution_count": 16
    }
   ],
   "source": [
    "\"\"\"\n",
    "使用頻度高め\n",
    "リスト内包表現\n",
    "\"\"\"\n",
    "\n",
    "numbers = [a for a in range(10)]\n",
    "numbers"
   ]
  },
  {
   "cell_type": "code",
   "execution_count": 20,
   "metadata": {},
   "outputs": [
    {
     "output_type": "stream",
     "name": "stdout",
     "text": "['apple', 'banana', 'orange', 'strawberry']\n['apple juice', 'banana juice', 'orange juice', 'fruit juice', 'strawberry juice']\n"
    }
   ],
   "source": [
    "#条件文との組み合わせ\n",
    "\n",
    "params = [\"apple\",\"banana\",\"orange\",\"fruit\",\"strawberry\"]\n",
    "\n",
    "print([name for name in params if \"a\" in name])\n",
    "\n",
    "print([name + \" juice\" for name in params])\n",
    ""
   ]
  },
  {
   "cell_type": "code",
   "execution_count": 25,
   "metadata": {},
   "outputs": [],
   "source": [
    "#リスト同士の結合、追加\n",
    "\n",
    "a_list = [\"a\",\"b\",\"c\"]\n",
    "a2_list = [\"a\",\"b\",\"c\"]\n",
    "\n",
    "d_list = [\"d\",\"e\",\"f\"]\n",
    "\n",
    "#一つのデータとして格納する\n",
    "a_list.append(d_list)\n",
    "\n",
    "#各要素をバラバラにして追加する。\n",
    "a2_list.extend(d_list)\n",
    ""
   ]
  },
  {
   "cell_type": "code",
   "execution_count": 29,
   "metadata": {},
   "outputs": [
    {
     "output_type": "stream",
     "name": "stdout",
     "text": "['a', 'b', 'c', ['d', 'e', 'f']]\n['a', 'b', 'c', 'd', 'e', 'f']\n['d', 'e', 'f']\nd\n"
    }
   ],
   "source": [
    "print(a_list)\n",
    "print(a2_list)\n",
    "print(a_list[3])\n",
    "print(a2_list[3])"
   ]
  },
  {
   "cell_type": "code",
   "execution_count": null,
   "metadata": {},
   "outputs": [],
   "source": []
  }
 ]
}