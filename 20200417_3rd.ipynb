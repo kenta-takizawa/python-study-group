{
 "nbformat": 4,
 "nbformat_minor": 2,
 "metadata": {
  "language_info": {
   "name": "python",
   "codemirror_mode": {
    "name": "ipython",
    "version": 3
   },
   "version": "3.7.6-final"
  },
  "orig_nbformat": 2,
  "file_extension": ".py",
  "mimetype": "text/x-python",
  "name": "python",
  "npconvert_exporter": "python",
  "pygments_lexer": "ipython3",
  "version": 3,
  "kernelspec": {
   "name": "python3",
   "display_name": "Python 3"
  }
 },
 "cells": [
  {
   "cell_type": "markdown",
   "metadata": {},
   "source": [
    "## Pyhon勉強会　第3回　ループ処理"
   ]
  },
  {
   "cell_type": "markdown",
   "metadata": {},
   "source": [
    "#### for文"
   ]
  },
  {
   "cell_type": "code",
   "execution_count": 1,
   "metadata": {},
   "outputs": [
    {
     "output_type": "stream",
     "name": "stdout",
     "text": "0\n1\n2\n3\n4\n5\n6\n7\n8\n9\n"
    }
   ],
   "source": [
    "\"\"\"\n",
    "for 変数 in 範囲:\n",
    "    処理したい内容\n",
    "\"\"\"\n",
    "for i in range(10):\n",
    "    print(i)"
   ]
  },
  {
   "cell_type": "code",
   "execution_count": 2,
   "metadata": {},
   "outputs": [
    {
     "output_type": "stream",
     "name": "stdout",
     "text": "6\n7\n8\n9\n"
    }
   ],
   "source": [
    "for i in range(6,10):\n",
    "    print(i)"
   ]
  },
  {
   "cell_type": "markdown",
   "metadata": {},
   "source": [
    "#### while処理"
   ]
  },
  {
   "cell_type": "code",
   "execution_count": 5,
   "metadata": {},
   "outputs": [
    {
     "output_type": "stream",
     "name": "stdout",
     "text": "0\n1\n2\n3\n4\n5\n6\n7\n8\n9\n10\nlast number11\n"
    }
   ],
   "source": [
    "\"\"\"\n",
    "while 条件式：\n",
    "    繰り返し処理\n",
    "    カウンタ変数の更新\n",
    "\"\"\"\n",
    "j = 0\n",
    "while j <= 10:\n",
    "    print(j)\n",
    "    j += 1\n",
    "print(\"last number\"+str(j))"
   ]
  },
  {
   "cell_type": "code",
   "execution_count": 6,
   "metadata": {},
   "outputs": [
    {
     "output_type": "stream",
     "name": "stdout",
     "text": "スライムに5のダメージを与えた。\nスライムに1のダメージを与えた。\nスライムに9のダメージを与えた。\nスライムに4のダメージを与えた。\nスライムに10のダメージを与えた。\nスライムに9のダメージを与えた。\nスライムを倒した。\n"
    }
   ],
   "source": [
    "import random\n",
    "\n",
    "hp = 30\n",
    "\n",
    "while hp > 0:\n",
    "    hit = random.randint(1,10)\n",
    "    print(\"スライムに\"+ str(hit) + \"のダメージを与えた。\")\n",
    "    hp -= hit\n",
    "print(\"スライムを倒した。\")\n",
    ""
   ]
  },
  {
   "cell_type": "code",
   "execution_count": 10,
   "metadata": {},
   "outputs": [
    {
     "output_type": "display_data",
     "data": {
      "text/plain": "<IPython.core.display.HTML object>",
      "text/html": "<select name = 'age'>"
     },
     "metadata": {}
    },
    {
     "output_type": "display_data",
     "data": {
      "text/plain": "<IPython.core.display.HTML object>",
      "text/html": "<option>1歳</option>"
     },
     "metadata": {}
    },
    {
     "output_type": "display_data",
     "data": {
      "text/plain": "<IPython.core.display.HTML object>",
      "text/html": "<option>2歳</option>"
     },
     "metadata": {}
    },
    {
     "output_type": "display_data",
     "data": {
      "text/plain": "<IPython.core.display.HTML object>",
      "text/html": "<option>3歳</option>"
     },
     "metadata": {}
    },
    {
     "output_type": "display_data",
     "data": {
      "text/plain": "<IPython.core.display.HTML object>",
      "text/html": "<option>4歳</option>"
     },
     "metadata": {}
    },
    {
     "output_type": "display_data",
     "data": {
      "text/plain": "<IPython.core.display.HTML object>",
      "text/html": "<option>5歳</option>"
     },
     "metadata": {}
    },
    {
     "output_type": "display_data",
     "data": {
      "text/plain": "<IPython.core.display.HTML object>",
      "text/html": "<option>6歳</option>"
     },
     "metadata": {}
    },
    {
     "output_type": "display_data",
     "data": {
      "text/plain": "<IPython.core.display.HTML object>",
      "text/html": "<option>7歳</option>"
     },
     "metadata": {}
    },
    {
     "output_type": "display_data",
     "data": {
      "text/plain": "<IPython.core.display.HTML object>",
      "text/html": "<option>8歳</option>"
     },
     "metadata": {}
    },
    {
     "output_type": "display_data",
     "data": {
      "text/plain": "<IPython.core.display.HTML object>",
      "text/html": "<option>9歳</option>"
     },
     "metadata": {}
    },
    {
     "output_type": "display_data",
     "data": {
      "text/plain": "<IPython.core.display.HTML object>",
      "text/html": "<option>10歳</option>"
     },
     "metadata": {}
    },
    {
     "output_type": "display_data",
     "data": {
      "text/plain": "<IPython.core.display.HTML object>",
      "text/html": "</select>"
     },
     "metadata": {}
    },
    {
     "output_type": "execute_result",
     "data": {
      "text/plain": "'\\nprint(\"<select name = \\'age\\'>\")\\nfor age in range(10):\\n    print(\"<option>\" + str(age + 1) + \"歳</option>\")\\nprint(\"</select>\")\\n'"
     },
     "metadata": {},
     "execution_count": 10
    }
   ],
   "source": [
    "from IPython.display import display,HTML\n",
    "\n",
    "display(HTML(\"<select name = \\'age\\'>\"))\n",
    "for age in range(10):\n",
    "    display(HTML(\"<option>\" + str(age + 1) + \"歳</option>\"))\n",
    "display(HTML(\"</select>\"))\n",
    "\n",
    "\n",
    "\"\"\"\n",
    "print(\"<select name = \\'age\\'>\")\n",
    "for age in range(10):\n",
    "    print(\"<option>\" + str(age + 1) + \"歳</option>\")\n",
    "print(\"</select>\")\n",
    "\"\"\""
   ]
  },
  {
   "cell_type": "markdown",
   "metadata": {},
   "source": [
    "#### inputによる入力"
   ]
  },
  {
   "cell_type": "code",
   "execution_count": 13,
   "metadata": {},
   "outputs": [
    {
     "output_type": "stream",
     "name": "stdout",
     "text": "hello test\n"
    }
   ],
   "source": [
    "line = input()\n",
    "\n",
    "print(\"hello \" + line)"
   ]
  },
  {
   "cell_type": "code",
   "execution_count": 14,
   "metadata": {},
   "outputs": [
    {
     "output_type": "stream",
     "name": "stdout",
     "text": "データ個数9\nhelloa\nhellos\nhellod\nhello\nhellof\nhellof\nhellog\nhellog\nhelloh\n"
    }
   ],
   "source": [
    "count = int(input())\n",
    "print(\"データ個数\" + str(count))\n",
    "for i in range(count):\n",
    "    line = input().rstrip()\n",
    "    print(\"hello \" + line)"
   ]
  },
  {
   "cell_type": "code",
   "execution_count": 16,
   "metadata": {},
   "outputs": [
    {
     "output_type": "stream",
     "name": "stdout",
     "text": "西暦1989年は、平成1年です。\n西暦1990年は、平成2年です。\n西暦1991年は、平成3年です。\n西暦1992年は、平成4年です。\n西暦1993年は、平成5年です。\n西暦1994年は、平成6年です。\n西暦1995年は、平成7年です。\n西暦1996年は、平成8年です。\n西暦1997年は、平成9年です。\n西暦1998年は、平成10年です。\n西暦1999年は、平成11年です。\n西暦2000年は、平成12年です。\n西暦2001年は、平成13年です。\n西暦2002年は、平成14年です。\n西暦2003年は、平成15年です。\n西暦2004年は、平成16年です。\n西暦2005年は、平成17年です。\n西暦2006年は、平成18年です。\n西暦2007年は、平成19年です。\n西暦2008年は、平成20年です。\n西暦2009年は、平成21年です。\n西暦2010年は、平成22年です。\n西暦2011年は、平成23年です。\n西暦2012年は、平成24年です。\n西暦2013年は、平成25年です。\n西暦2014年は、平成26年です。\n西暦2015年は、平成27年です。\n西暦2016年は、平成28年です。\n"
    }
   ],
   "source": [
    "for seireki in range(1989,2017):\n",
    "    print(\"西暦\" + str(seireki) + \"年は、\",end = \"\")\n",
    "    heisei = seireki - 1988\n",
    "    print(\"平成\" + str(heisei) + \"年です。\")"
   ]
  },
  {
   "cell_type": "markdown",
   "metadata": {},
   "source": [
    "### その他"
   ]
  },
  {
   "cell_type": "code",
   "execution_count": 21,
   "metadata": {},
   "outputs": [
    {
     "output_type": "stream",
     "name": "stdout",
     "text": "Welcome! takizawa\n"
    }
   ],
   "source": [
    "\"\"\"\n",
    "入力されるまで、次の実行に進まない。\n",
    "\"\"\"\n",
    "while True:\n",
    "    word = input(\"please enter your name\")\n",
    "    answer = str(word) \n",
    "    if not len(answer) == 0:\n",
    "        break\n",
    "print(\"Welcome! \" + answer)"
   ]
  },
  {
   "cell_type": "code",
   "execution_count": null,
   "metadata": {},
   "outputs": [],
   "source": []
  }
 ]
}