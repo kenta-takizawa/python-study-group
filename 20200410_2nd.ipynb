{
 "nbformat": 4,
 "nbformat_minor": 2,
 "metadata": {
  "language_info": {
   "name": "python",
   "codemirror_mode": {
    "name": "ipython",
    "version": 3
   },
   "version": "3.7.6-final"
  },
  "orig_nbformat": 2,
  "file_extension": ".py",
  "mimetype": "text/x-python",
  "name": "python",
  "npconvert_exporter": "python",
  "pygments_lexer": "ipython3",
  "version": 3,
  "kernelspec": {
   "name": "python3",
   "display_name": "Python 3"
  }
 },
 "cells": [
  {
   "cell_type": "markdown",
   "metadata": {},
   "source": [
    "## python勉強会第2回　条件分岐"
   ]
  },
  {
   "cell_type": "code",
   "execution_count": 1,
   "metadata": {},
   "outputs": [
    {
     "output_type": "stream",
     "name": "stdout",
     "text": "xは70です\nyは40ではありません\n"
    }
   ],
   "source": [
    "x = 7 * 10\n",
    "y = 5 * 6\n",
    "\n",
    "# xが70と等しい場合に「xは70です」と出力してください\n",
    "if x == 70:\n",
    "    print('xは70です')\n",
    "\n",
    "# yが40と等しくない場合に「yは40ではありません」と出力してください\n",
    "if y != 40:\n",
    "#if not y == 40:\n",
    "    print('yは40ではありません')"
   ]
  },
  {
   "cell_type": "code",
   "execution_count": 2,
   "metadata": {},
   "outputs": [
    {
     "output_type": "stream",
     "name": "stdout",
     "text": "りんごを買うことができます\n"
    }
   ],
   "source": [
    "x = 10\n",
    "# xが30より大きい場合に「xは30より大きいです」と出力してください\n",
    "#Falseなので出力されない。\n",
    "if x > 30:\n",
    "    print('xは30より大きいです')\n",
    "\n",
    "money = 500\n",
    "apple_price = 200\n",
    "# moneyの値がapple_priceの値以上の時、「りんごを買うことができます」と出力してください\n",
    "if money >= apple_price:\n",
    "    print('りんごを買うことができます')"
   ]
  },
  {
   "cell_type": "code",
   "execution_count": 4,
   "metadata": {},
   "outputs": [
    {
     "output_type": "stream",
     "name": "stdout",
     "text": "お金が足りません。\n"
    }
   ],
   "source": [
    "money = 100\n",
    "apple_price = 200\n",
    "\n",
    "if money >= apple_price:\n",
    "    print('りんごを買うことができます')\n",
    "# if文の条件に当てはまらない場合に「お金が足りません」と出力してください\n",
    "else:\n",
    "    print(\"お金が足りません。\")\n",
    ""
   ]
  },
  {
   "cell_type": "code",
   "execution_count": 3,
   "metadata": {},
   "outputs": [
    {
     "output_type": "stream",
     "name": "stdout",
     "text": "りんごを買うことができますが所持金が0になります\n"
    }
   ],
   "source": [
    "money = 100\n",
    "apple_price = 100\n",
    "\n",
    "if money > apple_price:\n",
    "    print('りんごを買うことができます')\n",
    "# 変数の値が等しい場合に「りんごを買うことができますが所持金が0になります」と出力してください\n",
    "elif money == apple_price:\n",
    "    print(\"りんごを買うことができますが所持金が0になります\")\n",
    "\n",
    "else:\n",
    "    print('お金が足りません')"
   ]
  },
  {
   "cell_type": "markdown",
   "metadata": {},
   "source": [
    "### if文と論理演算子"
   ]
  },
  {
   "cell_type": "code",
   "execution_count": 5,
   "metadata": {},
   "outputs": [
    {
     "output_type": "stream",
     "name": "stdout",
     "text": "xは10以上30以下です\nyは10未満または30より大きいです\nzは77ではありません\n"
    }
   ],
   "source": [
    "x = 20\n",
    "# 変数xが10以上30以下の場合に「xは10以上30以下です」と出力してください。\n",
    "if 10 <= x and x <= 30:\n",
    "    print('xは10以上30以下です')\n",
    "\n",
    "y = 60\n",
    "# 変数yが10未満または30より大きい場合に「yは10未満または30より大きいです」と出力してください。\n",
    "if y < 10 or 30 < y:\n",
    "    print('yは10未満または30より大きいです')\n",
    "\n",
    "z = 55\n",
    "# 変数zが77ではない場合に「zは77ではありません」と出力してください。\n",
    "if not z == 77:\n",
    "    print('zは77ではありません')"
   ]
  },
  {
   "cell_type": "code",
   "execution_count": 6,
   "metadata": {},
   "outputs": [
    {
     "output_type": "stream",
     "name": "stdout",
     "text": "購入するりんごの個数は5個です\n支払い金額は1000円です\n"
    }
   ],
   "source": [
    "apple_price = 200\n",
    "\n",
    "# inputを用いて入力を受け取り、変数input_countに代入してください\n",
    "input_count = input('購入するりんごの個数を入力してください：')\n",
    "\n",
    "# input_countを数値として代入してください\n",
    "count = int(input_count)\n",
    "total_price = apple_price * count\n",
    "\n",
    "print('購入するりんごの個数は' + str(count) + '個です')\n",
    "print('支払い金額は' + str(total_price) + '円です')"
   ]
  },
  {
   "cell_type": "markdown",
   "metadata": {},
   "source": [
    "#### 条件分岐とinput"
   ]
  },
  {
   "cell_type": "code",
   "execution_count": null,
   "metadata": {},
   "outputs": [],
   "source": [
    "apple_price = 200\n",
    "# 変数moneyに数値1000を代入してください\n",
    "money = 1000\n",
    "\n",
    "input_count = input('購入するりんごの個数を入力してください：')\n",
    "count = int(input_count)\n",
    "total_price = apple_price * count\n",
    "\n",
    "print('購入するりんごの個数は' + str(count) + '個です')\n",
    "print('支払い金額は' + str(total_price) + '円です')\n",
    "\n",
    "# moneyとtotal_priceの比較結果によって条件を分岐してください\n",
    "if money > total_price:\n",
    "    print('りんごを' + str(count) + '個買いました')\n",
    "    print('残金は' + str(money - total_price) + '円です')\n",
    "elif money == total_price:\n",
    "    print('りんごを' + str(count) + '個買いました')\n",
    "    print('財布が空になりました')\n",
    "else:\n",
    "    print('お金が足りません')\n",
    "    print('りんごを買えませんでした')"
   ]
  },
  {
   "cell_type": "code",
   "execution_count": null,
   "metadata": {},
   "outputs": [],
   "source": []
  },
  {
   "cell_type": "code",
   "execution_count": null,
   "metadata": {},
   "outputs": [],
   "source": []
  },
  {
   "cell_type": "code",
   "execution_count": null,
   "metadata": {},
   "outputs": [],
   "source": []
  },
  {
   "cell_type": "code",
   "execution_count": null,
   "metadata": {},
   "outputs": [],
   "source": []
  }
 ]
}