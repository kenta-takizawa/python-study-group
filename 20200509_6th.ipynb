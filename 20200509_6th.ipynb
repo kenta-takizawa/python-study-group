{
 "cells": [
  {
   "cell_type": "markdown",
   "metadata": {},
   "source": [
    "### 第6回python勉強会　多次元リスト"
   ]
  },
  {
   "cell_type": "code",
   "execution_count": 2,
   "metadata": {},
   "outputs": [
    {
     "output_type": "stream",
     "name": "stdout",
     "text": "['mizuta', 'sato', 'kamibayashi', 'takizawa']\n['takemoto', 'kumagai', 'oishi', 'hukunaga']\n['ikeda', 'tsukamoto', 'konishi', 'okamoto']\n"
    }
   ],
   "source": [
    "#2次元リスト\n",
    "#行と列の数字を指定することで、データを引っ張ってくる。\n",
    "#正直、実務での使用頻度は少ない。今後習うnumpyやpandasを使う方が良い。計算が速いので。\n",
    "\n",
    "#今回の例では3×4の配列\n",
    "team_a = [\"mizuta\",\"sato\",\"kamibayashi\",\"takizawa\"]\n",
    "team_b = [\"takemoto\",\"kumagai\",\"oishi\",\"hukunaga\"]\n",
    "team_c = [\"ikeda\",\"tsukamoto\",\"konishi\",\"okamoto\"]\n",
    "\n",
    "team = [team_a,team_b,team_c]\n",
    "\n",
    "print(team[0])\n",
    "print(team[1])\n",
    "print(team[2])\n"
   ]
  },
  {
   "cell_type": "code",
   "execution_count": 3,
   "metadata": {},
   "outputs": [
    {
     "output_type": "stream",
     "name": "stdout",
     "text": "mizuta\n"
    }
   ],
   "source": [
    "print(team[0][0])"
   ]
  },
  {
   "cell_type": "code",
   "execution_count": 4,
   "metadata": {},
   "outputs": [
    {
     "output_type": "stream",
     "name": "stdout",
     "text": "okamoto\n"
    }
   ],
   "source": [
    "print(team[2][3])"
   ]
  },
  {
   "cell_type": "code",
   "execution_count": 5,
   "metadata": {},
   "outputs": [
    {
     "output_type": "stream",
     "name": "stdout",
     "text": "takizawa\nnew hirer\n"
    }
   ],
   "source": [
    "#配列の操作\n",
    "#値の代入\n",
    "print(team[0][3])\n",
    "team[0][3] = \"new hirer\"\n",
    "print(team[0][3])"
   ]
  },
  {
   "cell_type": "code",
   "execution_count": 8,
   "metadata": {},
   "outputs": [
    {
     "output_type": "stream",
     "name": "stdout",
     "text": "[['mizuta', 'sato', 'kamibayashi', 'new hirer'], ['takemoto', 'kumagai', 'oishi', 'hukunaga'], ['ikeda', 'tsukamoto', 'konishi', 'okamoto'], ['tanaka', 'kobayashi', 'ootsuka', 'goto'], ['tanaka', 'kobayashi', 'ootsuka', 'goto'], ['tanaka', 'kobayashi', 'ootsuka', 'goto']]\n-------------------\n['tanaka', 'kobayashi', 'ootsuka', 'goto']\n"
    }
   ],
   "source": [
    "#行の追加\n",
    "team.append([\"tanaka\",\"kobayashi\",\"ootsuka\",\"goto\"])\n",
    "print(team)\n",
    "print(\"-------------------\")\n",
    "print(team[3])\n",
    "\n",
    "#行の削除\n",
    "del team[3]"
   ]
  },
  {
   "cell_type": "code",
   "execution_count": 10,
   "metadata": {},
   "outputs": [
    {
     "output_type": "stream",
     "name": "stdout",
     "text": "['mizuta', 'sato', 'kamibayashi', 'new hirer', 'ogawa', 'ogawa']\n['mizuta', 'sato', 'kamibayashi', 'ogawa', 'ogawa']\n"
    }
   ],
   "source": [
    "#行の中におけるリストの追加、削除\n",
    "team[0].append(\"ogawa\")\n",
    "\n",
    "print(team[0])\n",
    "\n",
    "del team[0][3]\n",
    "\n",
    "print(team[0])"
   ]
  },
  {
   "cell_type": "code",
   "execution_count": 13,
   "metadata": {},
   "outputs": [
    {
     "output_type": "stream",
     "name": "stdout",
     "text": "[0, 1, 2, 3, 4, 5, 6, 7, 8, 9]\n[[0, 1, 2], [0, 1, 2], [0, 1, 2], [0, 1, 2]]\n"
    }
   ],
   "source": [
    "#1次元リスト作成：リスト内包表現\n",
    "list_1dim = [a for a in range(10)]\n",
    "print(list_1dim)\n",
    "\n",
    "#2次元リスト作成\n",
    "list_2dim = [[a for a in range(3)] for j in range(4)]\n",
    "\n",
    "print(list_2dim)"
   ]
  },
  {
   "cell_type": "code",
   "execution_count": 17,
   "metadata": {},
   "outputs": [
    {
     "output_type": "stream",
     "name": "stdout",
     "text": "############  \n##            ##\n#  ###   ###   #\n##    ##      ##\n ############## \n   ###     ###  \n    ###      ###\n"
    }
   ],
   "source": [
    "#遊び\n",
    "enemy_img = [[0,0,1,1,1,1,1,1,1,1,1,1,1,1,0,0],\n",
    "             [1,1,0,0,0,0,0,0,0,0,0,0,0,0,1,1],\n",
    "             [1,0,0,1,1,1,0,0,0,1,1,1,0,0,0,1],\n",
    "             [1,1,0,0,0,0,1,1,0,0,0,0,0,0,1,1],\n",
    "             [0,1,1,1,1,1,1,1,1,1,1,1,1,1,1,0],\n",
    "             [0,0,0,1,1,1,0,0,0,0,0,1,1,1,0,0],\n",
    "             [0,0,0,0,1,1,1,0,0,0,0,0,0,1,1,1]]\n",
    "\n",
    "\n",
    "for line in enemy_img:\n",
    "    for dot in line:\n",
    "        if dot == 1:\n",
    "            print(\"#\",end=\"\")\n",
    "        elif dot == 0:\n",
    "            print(\" \",end=\"\")\n",
    "    print()\n",
    "\n"
   ]
  },
  {
   "cell_type": "code",
   "execution_count": 24,
   "metadata": {},
   "outputs": [
    {
     "output_type": "stream",
     "name": "stdout",
     "text": "0:城＋＋＋＋＋＋＋＋町\n1:森森森森森森森森森森\n2:＋＋＋＋＋＋＋＋＋＋\n3:森森森森森森森森森森\n4:＋＋＋＋＋＋＋＋＋＋\n5:森森森森森森森森森森\n6:＋＋＋＋＋＋＋＋＋＋\n7:森森森森森森森森森森\n8:町＋＋＋＋＋＋＋＋町\n"
    }
   ],
   "source": [
    "#2次元配列の操作\n",
    "map_list = [[\"森\" for a in range(10)] for j in range(9)]\n",
    "\n",
    "map_list[0][0] = \"城\"\n",
    "map_list[0][-1] = \"町\"\n",
    "map_list[-1][0] = \"町\"\n",
    "map_list[-1][-1] = \"町\"\n",
    "\n",
    "for num,line in enumerate(map_list):\n",
    "    print(str(num) + \":\",end=\"\")\n",
    "    for area in line:\n",
    "        if num % 2 == 0 and area == \"森\":\n",
    "            print(\"＋\",end=\"\")\n",
    "        else:\n",
    "            print(area,end=\"\")\n",
    "    print()\n",
    " "
   ]
  },
  {
   "cell_type": "code",
   "execution_count": null,
   "metadata": {},
   "outputs": [],
   "source": []
  },
  {
   "cell_type": "code",
   "execution_count": null,
   "metadata": {},
   "outputs": [],
   "source": []
  },
  {
   "cell_type": "code",
   "execution_count": null,
   "metadata": {},
   "outputs": [],
   "source": []
  }
 ],
 "metadata": {
  "language_info": {
   "codemirror_mode": {
    "name": "ipython",
    "version": 3
   },
   "file_extension": ".py",
   "mimetype": "text/x-python",
   "name": "python",
   "nbconvert_exporter": "python",
   "pygments_lexer": "ipython3",
   "version": "3.6.6-final"
  },
  "orig_nbformat": 2,
  "kernelspec": {
   "name": "python3",
   "display_name": "Python 3"
  }
 },
 "nbformat": 4,
 "nbformat_minor": 2
}