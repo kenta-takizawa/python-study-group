{
 "metadata": {
  "language_info": {
   "codemirror_mode": {
    "name": "ipython",
    "version": 3
   },
   "file_extension": ".py",
   "mimetype": "text/x-python",
   "name": "python",
   "nbconvert_exporter": "python",
   "pygments_lexer": "ipython3",
   "version": 3
  },
  "orig_nbformat": 2,
  "kernelspec": {
   "name": "python_defaultSpec_1597112083188",
   "display_name": "Python 3.7.6 64-bit ('base': conda)"
  }
 },
 "nbformat": 4,
 "nbformat_minor": 2,
 "cells": [
  {
   "cell_type": "markdown",
   "metadata": {},
   "source": [
    "## python勉強会　第17回opencv2"
   ]
  },
  {
   "cell_type": "code",
   "execution_count": 1,
   "metadata": {
    "tags": []
   },
   "outputs": [
    {
     "output_type": "stream",
     "name": "stderr",
     "text": "\nBad key \"font..family\" on line 199 in\nC:\\Users\\user\\.matplotlib\\matplotlibrc.\nYou probably need to get an updated matplotlibrc file from\nhttps://github.com/matplotlib/matplotlib/blob/v3.1.3/matplotlibrc.template\nor from the matplotlib source distribution\n"
    }
   ],
   "source": [
    "import cv2\n",
    "from skimage import io\n",
    "import numpy as np \n",
    "import matplotlib.pyplot as plt\n",
    "import japanize_matplotlib\n",
    "import pandas as pd \n",
    "%matplotlib inline"
   ]
  },
  {
   "cell_type": "markdown",
   "metadata": {},
   "source": [
    "### 参考URL\n",
    "#### http://labs.eecs.tottori-u.ac.jp/sd/Member/oyamada/OpenCV/html/py_tutorials/py_imgproc/py_table_of_contents_imgproc/py_table_of_contents_imgproc.html#py-table-of-content-imgproc\n",
    "#### https://datawokagaku.com/opencv/"
   ]
  },
  {
   "cell_type": "markdown",
   "metadata": {},
   "source": [
    "### 問題１：左の画像を読み込んでください。さらに、読み込んだ画像を平滑化（ぼか）してください。\n",
    "#### cv2.blurを使います。\n",
    "![](./opencv2/water_coins.jpg)\n",
    "![](./opencv2/blur.jpg)"
   ]
  },
  {
   "cell_type": "code",
   "execution_count": null,
   "metadata": {},
   "outputs": [],
   "source": [
    "#ここに解答を記載する。"
   ]
  },
  {
   "cell_type": "markdown",
   "metadata": {},
   "source": [
    "### 問題２：読み込んだ画像をコインが白、背景が黒になるようにしてください。さらにその画像に、オープニング、クロージング処理をしてください。\n",
    "#### cv2.morphologyExを使います。\n",
    "![](./opencv2/bitwise.jpg)\n",
    "![](./opencv2/opening.jpg)\n",
    "![](./opencv2/closing.jpg)"
   ]
  },
  {
   "cell_type": "code",
   "execution_count": 3,
   "metadata": {},
   "outputs": [
    {
     "output_type": "execute_result",
     "data": {
      "text/plain": "True"
     },
     "metadata": {},
     "execution_count": 3
    }
   ],
   "source": [
    "#ここに解答を記載する。"
   ]
  },
  {
   "cell_type": "markdown",
   "metadata": {},
   "source": [
    "### 問題３：コインが白色の画像に距離変換をかけて、白領域を分離してください。さらにその画像に粒子解析を実行し、各粒子の重心座標に赤丸を入れてください。\n",
    "#### 距離変換：cv2.distanceTransform,粒子解析：cv2.connectedComponentsWithStats,赤丸：cv2.circleを使います。\n",
    "#### 注）numpyの座標指定を使います。cv2.connectedComponentsWithStatsで返されるデータ形状をよく見てください。\n",
    "#### https://qiita.com/ysdyt/items/5972c9520acf6a094d90\n",
    "![](./opencv2/sure_fg.jpg)\n",
    "![](./opencv2/return_img.jpg)"
   ]
  },
  {
   "cell_type": "code",
   "execution_count": null,
   "metadata": {},
   "outputs": [],
   "source": [
    "#ここに解答を記載する。"
   ]
  },
  {
   "cell_type": "markdown",
   "metadata": {},
   "source": [
    "### 問題４：各粒子の情報（面積、重心座標）を整理してエクセルで保存してください。\n",
    "#### cv2.connectedComponentsWithStatsで得られたデータ、pandasを使います。"
   ]
  },
  {
   "cell_type": "code",
   "execution_count": 48,
   "metadata": {},
   "outputs": [],
   "source": [
    "#ここに解答を記載する。"
   ]
  },
  {
   "cell_type": "markdown",
   "metadata": {},
   "source": [
    "### 問題５：分水嶺アルゴリズムを適用し、コインを個別に分離してください。各コインの色を別々に指定して表示してください。（文字は入れなくても大丈夫です。）\n",
    "#### https://qiita.com/ysdyt/items/5972c9520acf6a094d90\n",
    "![](./opencv2/water_threshold.jpg)"
   ]
  },
  {
   "cell_type": "code",
   "execution_count": 51,
   "metadata": {},
   "outputs": [
    {
     "output_type": "execute_result",
     "data": {
      "text/plain": "True"
     },
     "metadata": {},
     "execution_count": 51
    }
   ],
   "source": [
    "#ここに解答を記載する。"
   ]
  },
  {
   "cell_type": "code",
   "execution_count": null,
   "metadata": {},
   "outputs": [],
   "source": []
  }
 ]
}