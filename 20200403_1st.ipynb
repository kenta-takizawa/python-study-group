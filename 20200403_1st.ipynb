{
 "nbformat": 4,
 "nbformat_minor": 2,
 "metadata": {
  "language_info": {
   "name": "python",
   "codemirror_mode": {
    "name": "ipython",
    "version": 3
   },
   "version": "3.7.6-final"
  },
  "orig_nbformat": 2,
  "file_extension": ".py",
  "mimetype": "text/x-python",
  "name": "python",
  "npconvert_exporter": "python",
  "pygments_lexer": "ipython3",
  "version": 3,
  "kernelspec": {
   "name": "python3",
   "display_name": "Python 3"
  }
 },
 "cells": [
  {
   "cell_type": "markdown",
   "metadata": {},
   "source": [
    "## Python勉強会　第１回：変数 \n",
    "### 書き方忘れたときに、参考にするサイト https://note.nkmk.me/python/"
   ]
  },
  {
   "cell_type": "markdown",
   "metadata": {},
   "source": [
    "#### 文字列の出力"
   ]
  },
  {
   "cell_type": "code",
   "execution_count": 2,
   "metadata": {},
   "outputs": [
    {
     "output_type": "stream",
     "name": "stdout",
     "text": "Hello World\n"
    }
   ],
   "source": [
    "#文字列の出力 ←　「#」から始める文は実行されない。コメントになる。\n",
    "print(\"Hello World\")#必ず「\"\"」or 「''」で囲むこと\n",
    ""
   ]
  },
  {
   "cell_type": "code",
   "execution_count": 3,
   "metadata": {},
   "outputs": [
    {
     "output_type": "error",
     "ename": "SyntaxError",
     "evalue": "invalid syntax (<ipython-input-3-72d219a39a01>, line 2)",
     "traceback": [
      "\u001b[1;36m  File \u001b[1;32m\"<ipython-input-3-72d219a39a01>\"\u001b[1;36m, line \u001b[1;32m2\u001b[0m\n\u001b[1;33m    print(Hello World)\u001b[0m\n\u001b[1;37m                    ^\u001b[0m\n\u001b[1;31mSyntaxError\u001b[0m\u001b[1;31m:\u001b[0m invalid syntax\n"
     ]
    }
   ],
   "source": [
    "#以下の場合はエラーになる。文字として認識されない。\n",
    "print(Hello World)"
   ]
  },
  {
   "cell_type": "code",
   "execution_count": 4,
   "metadata": {},
   "outputs": [
    {
     "output_type": "error",
     "ename": "SyntaxError",
     "evalue": "invalid character in identifier (<ipython-input-4-9c85e2538962>, line 2)",
     "traceback": [
      "\u001b[1;36m  File \u001b[1;32m\"<ipython-input-4-9c85e2538962>\"\u001b[1;36m, line \u001b[1;32m2\u001b[0m\n\u001b[1;33m    print(’Hello world’)\u001b[0m\n\u001b[1;37m               ^\u001b[0m\n\u001b[1;31mSyntaxError\u001b[0m\u001b[1;31m:\u001b[0m invalid character in identifier\n"
     ]
    }
   ],
   "source": [
    "#以下の場合はエラーになる。必ず半角で囲む。\n",
    "print(’Hello world’)"
   ]
  },
  {
   "cell_type": "markdown",
   "metadata": {},
   "source": [
    "#### 数値計算"
   ]
  },
  {
   "cell_type": "code",
   "execution_count": 5,
   "metadata": {},
   "outputs": [
    {
     "output_type": "stream",
     "name": "stdout",
     "text": "9\n12\n9 + 3\n"
    }
   ],
   "source": [
    "#数値の計算\n",
    "print(9) #数値の出力\n",
    "print(9 + 3) #足し算結果の出力\n",
    "print(\"9 + 3\") #文字列として出力\n",
    ""
   ]
  },
  {
   "cell_type": "code",
   "execution_count": 6,
   "metadata": {},
   "outputs": [
    {
     "output_type": "stream",
     "name": "stdout",
     "text": "4.5\n35\n1\n"
    }
   ],
   "source": [
    "#その他演算\n",
    "# 9を2で割った値を出力してください\n",
    "print(9 / 2)\n",
    "# 7に5を掛けた値を出力してください\n",
    "print(7 * 5)\n",
    "# 5を2で割った時の余りを出力してください\n",
    "print(5 % 2)\n",
    ""
   ]
  },
  {
   "cell_type": "markdown",
   "metadata": {},
   "source": [
    "#### 変数\n",
    "#### 変数とは、データ（値、文字列、行列）を入れる箱。 「変数名 = データ」と書く。"
   ]
  },
  {
   "cell_type": "code",
   "execution_count": 7,
   "metadata": {},
   "outputs": [
    {
     "output_type": "stream",
     "name": "stdout",
     "text": "にんじゃわんこ\n7\n"
    }
   ],
   "source": [
    "# 変数nameに文字列「にんじゃわんこ」を代入してください\n",
    "name = \"にんじゃわんこ\"\n",
    "\n",
    "# 変数nameの値を出力してください\n",
    "print(name)\n",
    "\n",
    "# 変数numberに数値の7を代入してください\n",
    "number = 7\n",
    "\n",
    "# 変数numberの値を出力してください\n",
    "print(number)"
   ]
  },
  {
   "cell_type": "code",
   "execution_count": 8,
   "metadata": {},
   "outputs": [
    {
     "output_type": "stream",
     "name": "stdout",
     "text": "1600\n"
    }
   ],
   "source": [
    "#-------重要----------------\n",
    "#変数名のつけ方\n",
    "\"\"\"\n",
    "変数を使う目的は\n",
    "・扱っているデータを分かりやすくする\n",
    "・繰り返し使えるようにする\n",
    "そのため変数名は、扱っているデータを瞬時に理解できるように付けることが推奨される。\n",
    "\n",
    "１：英単語を使う 例）date, day など hinichiなどはダメ\n",
    "２：長くなる場合は「_」で区切る 例）user_name, q_threshold など\n",
    "３：その他NG \n",
    "    ・数字開始はダメ 例）1name\n",
    "\n",
    "\"\"\"\n",
    "#一目でリンゴの値段と個数だとわかる。\n",
    "apple_price = 200\n",
    "apple_count = 8\n",
    "\n",
    "# apple_priceとapple_countを掛けた結果を、変数total_priceに代入してください\n",
    "total_price = apple_price * apple_count\n",
    "\n",
    "# total_priceの値を出力してください\n",
    "print(total_price)\n",
    "\n",
    "\n",
    ""
   ]
  },
  {
   "cell_type": "code",
   "execution_count": null,
   "metadata": {},
   "outputs": [],
   "source": [
    "#こういうのはわかりにくい\n",
    "ringo_no_nedan = 200\n",
    "ringo_no_kazu = 8\n",
    "\n",
    "#何の計算をしているかわからない。\n",
    "total_price = 200 * 8\n"
   ]
  },
  {
   "cell_type": "markdown",
   "metadata": {},
   "source": [
    "#### 変数の上書き"
   ]
  },
  {
   "cell_type": "code",
   "execution_count": 12,
   "metadata": {},
   "outputs": [
    {
     "output_type": "stream",
     "name": "stdout",
     "text": "2000\n5000\n"
    }
   ],
   "source": [
    "money = 2000\n",
    "print(money)\n",
    "\n",
    "# 変数moneyに5000を足して、変数moneyを上書きしてください\n",
    "money += 5000\n",
    "money = 5000 #5000に上書きされる。\n",
    "\n",
    "# 変数moneyの値を出力してください\n",
    "print(money)"
   ]
  },
  {
   "cell_type": "markdown",
   "metadata": {},
   "source": [
    "#### 文字列の連結\n",
    "#### 足し算で連結可能"
   ]
  },
  {
   "cell_type": "code",
   "execution_count": 15,
   "metadata": {},
   "outputs": [
    {
     "output_type": "stream",
     "name": "stdout",
     "text": "私はにんじゃわんこです\n"
    }
   ],
   "source": [
    "#足し算で連結可能\n",
    "# my_nameという変数に「にんじゃわんこ」という文字列を代入してください\n",
    "my_name = \"にんじゃわんこ\"\n",
    "\n",
    "# my_nameを用いて、「私はにんじゃわんこです」となるように変数と文字列を連結して出力してください\n",
    "print(\"私は\" + my_name + \"です\")"
   ]
  },
  {
   "cell_type": "markdown",
   "metadata": {},
   "source": [
    "#### データ型 例）文字列は「str」数値は「int」「float」など\n",
    "#### 演算をするときなどはデータ型を合わせる必要がある。"
   ]
  },
  {
   "cell_type": "code",
   "execution_count": 16,
   "metadata": {},
   "outputs": [
    {
     "output_type": "stream",
     "name": "stdout",
     "text": "私は24です\n6\n"
    }
   ],
   "source": [
    "age = 24\n",
    "# ageを用いて「私は24歳です」と出力してください\n",
    "print(\"私は\" +str(age) + \"です\")\n",
    "\n",
    "count = '5'\n",
    "# countに1を足した値を出力してください\n",
    "print(1 + int(count))"
   ]
  },
  {
   "cell_type": "markdown",
   "metadata": {},
   "source": [
    "#### その他テクニック"
   ]
  },
  {
   "cell_type": "code",
   "execution_count": 18,
   "metadata": {},
   "outputs": [
    {
     "output_type": "stream",
     "name": "stdout",
     "text": "Hey Hey Hey toray\n"
    }
   ],
   "source": [
    "#同じ文字を連続して出す場合\n",
    "print(\"Hey \" * 3 + \"toray\")"
   ]
  },
  {
   "cell_type": "code",
   "execution_count": 20,
   "metadata": {},
   "outputs": [
    {
     "output_type": "execute_result",
     "data": {
      "text/plain": "'vation by chemistry'"
     },
     "metadata": {},
     "execution_count": 20
    }
   ],
   "source": [
    "#文字をある部分から表示したい場合\n",
    "words = \"Inovation by chemistry\"\n",
    "words[3:]"
   ]
  },
  {
   "cell_type": "code",
   "execution_count": 21,
   "metadata": {},
   "outputs": [
    {
     "output_type": "execute_result",
     "data": {
      "text/plain": "10"
     },
     "metadata": {},
     "execution_count": 21
    }
   ],
   "source": [
    "#文字がどこにあるか\n",
    "words.find(\"by\")"
   ]
  },
  {
   "cell_type": "code",
   "execution_count": 24,
   "metadata": {},
   "outputs": [
    {
     "output_type": "execute_result",
     "data": {
      "text/plain": "'INOVATION BY CHEMISTRY'"
     },
     "metadata": {},
     "execution_count": 24
    }
   ],
   "source": [
    "#大文字にする\n",
    "words.upper()"
   ]
  },
  {
   "cell_type": "code",
   "execution_count": 27,
   "metadata": {},
   "outputs": [
    {
     "output_type": "execute_result",
     "data": {
      "text/plain": "1"
     },
     "metadata": {},
     "execution_count": 27
    }
   ],
   "source": [
    "#指定の文字の数を返す。大文字と小文字は区別される。\n",
    "words.count(\"I\")"
   ]
  },
  {
   "cell_type": "code",
   "execution_count": 28,
   "metadata": {},
   "outputs": [
    {
     "output_type": "execute_result",
     "data": {
      "text/plain": "'Inovation from chemistry'"
     },
     "metadata": {},
     "execution_count": 28
    }
   ],
   "source": [
    "#文字列の代替\n",
    "words.replace(\"by\",\"from\")"
   ]
  },
  {
   "cell_type": "code",
   "execution_count": 53,
   "metadata": {},
   "outputs": [
    {
     "output_type": "stream",
     "name": "stdout",
     "text": "['2020/4/1-12', '13', '14']\n区切りの1番目の文字列:13\n"
    }
   ],
   "source": [
    "#文字列を区切る\n",
    "date = \"2020/4/1-12:13:14\"\n",
    "cut_num = 1\n",
    "split_tag = \":\"\n",
    "\n",
    "print(date.split(split_tag))\n",
    "print(\"区切りの{}番目の文字列\".format(cut_num)+\":\"+date.split(split_tag)[1])"
   ]
  },
  {
   "cell_type": "code",
   "execution_count": 29,
   "metadata": {},
   "outputs": [
    {
     "output_type": "stream",
     "name": "stdout",
     "text": "my name is kenta takizawa\n"
    }
   ],
   "source": [
    "#値などを表示する場合\n",
    "#strなどに変更しなくても.formatを使うと表示できる。\n",
    "print(\"my name is {name} {family}\".format(name = \"kenta\",family = \"takizawa\"))\n"
   ]
  },
  {
   "cell_type": "code",
   "execution_count": 31,
   "metadata": {},
   "outputs": [
    {
     "output_type": "stream",
     "name": "stdout",
     "text": "value : 1.1 , 2.1, 3.11\n"
    }
   ],
   "source": [
    "#python3.6以上では以下の書き方も可能\n",
    "x,y,z = 1.1,2.1,3.11\n",
    "\n",
    "print(f\"value : {x} , {y}, {z}\")"
   ]
  },
  {
   "cell_type": "code",
   "execution_count": 40,
   "metadata": {},
   "outputs": [
    {
     "output_type": "stream",
     "name": "stdout",
     "text": "value:1.23457\n"
    }
   ],
   "source": [
    "#小数点以下を指定したいなどは以下のように書く。\n",
    "value = 1.23456789\n",
    "\n",
    "print(\"value:{:.5f}\".format(value))"
   ]
  },
  {
   "cell_type": "code",
   "execution_count": null,
   "metadata": {},
   "outputs": [],
   "source": []
  }
 ]
}